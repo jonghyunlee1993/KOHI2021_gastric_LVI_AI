{
 "cells": [
  {
   "cell_type": "code",
   "execution_count": 1,
   "id": "6e28b85d",
   "metadata": {},
   "outputs": [],
   "source": [
    "import os\n",
    "import cv2\n",
    "import glob\n",
    "import numpy as np\n",
    "import pandas as pd\n",
    "import matplotlib.pyplot as plt\n",
    "from tqdm import tqdm\n",
    "\n",
    "import timm\n",
    "import torch\n",
    "import torch.nn as nn\n",
    "import torch.nn.functional as F\n",
    "from torch.utils.data.sampler import Sampler\n",
    "from torch.utils.data import Dataset, DataLoader\n",
    "from torch.optim.lr_scheduler import ReduceLROnPlateau\n",
    "\n",
    "import torchmetrics\n",
    "import pytorch_lightning as pl\n",
    "from pytorch_lightning.callbacks import EarlyStopping\n",
    "\n",
    "\n",
    "import albumentations as A\n",
    "from albumentations.pytorch.transforms import ToTensorV2\n",
    "\n",
    "from sklearn.model_selection import train_test_split\n",
    "from sklearn.metrics import confusion_matrix, accuracy_score, f1_score, precision_score, recall_score\n",
    "\n",
    "import warnings\n",
    "warnings.filterwarnings(action='ignore')\n",
    "\n",
    "N_EPOCHS = 1000\n",
    "BATCH_SIZE = 128\n",
    "LEARNING_RATE = 0.0005\n",
    "PAITENCE = 10\n",
    "\n",
    "IM_HEIGHT = 256\n",
    "IM_WIDTH = 256\n",
    "\n",
    "model_name = \"densenet121\""
   ]
  },
  {
   "cell_type": "code",
   "execution_count": 2,
   "id": "e8052d5f",
   "metadata": {},
   "outputs": [
    {
     "name": "stdout",
     "output_type": "stream",
     "text": [
      "X train: (227880,)\n",
      "X valid: (56971,)\n",
      "X test: (71215,)\n",
      "y train: (227880,)\n",
      "y valid: (56971,)\n",
      "y test: (71215,)\n"
     ]
    }
   ],
   "source": [
    "def generate_patch_df(flist, label):\n",
    "    df = pd.DataFrame({\"fpath\": flist})\n",
    "    df['slide_id'] = df['fpath'].map(lambda x: x.split(\"/\")[-1].split(\".\")[0].split(\"_\")[0])\n",
    "    df['patient_id'] = df['slide_id'].map(lambda x: x.split(\"-\")[0])\n",
    "    df['target'] = label\n",
    "\n",
    "    df = df.loc[:, [\"patient_id\", \"slide_id\", \"fpath\", \"target\"]]\n",
    "    \n",
    "    return df\n",
    "\n",
    "\n",
    "def define_dataset(positive_df, negative_df, normal_df, sampling_rate=0.2):\n",
    "    X_train_pos, X_test_pos, y_train_pos, y_test_pos = train_test_split(positive_df['fpath'], positive_df['target'], test_size=sampling_rate, random_state=1234)\n",
    "    X_train_pos, X_valid_pos, y_train_pos, y_valid_pos = train_test_split(X_train_pos, y_train_pos, test_size=sampling_rate, random_state=1234)\n",
    "\n",
    "    X_train_neg, X_test_neg, y_train_neg, y_test_neg = train_test_split(negative_df['fpath'], negative_df['target'], test_size=sampling_rate, random_state=1234)\n",
    "    X_train_neg, X_valid_neg, y_train_neg, y_valid_neg = train_test_split(X_train_neg, y_train_neg, test_size=sampling_rate, random_state=1234)\n",
    "    \n",
    "    X_train_normal, X_test_normal, y_train_normal, y_test_normal = train_test_split(normal_df['fpath'], normal_df['target'], test_size=sampling_rate, random_state=1234)\n",
    "    X_train_normal, X_valid_normal, y_train_normal, y_valid_normal = train_test_split(X_train_normal, y_train_normal, test_size=sampling_rate, random_state=1234)\n",
    "    \n",
    "    X_train = np.hstack([X_train_pos, X_train_neg, X_train_normal])\n",
    "    X_valid = np.hstack([X_valid_pos, X_valid_neg, X_valid_normal])\n",
    "    X_test = np.hstack([X_test_pos, X_test_neg, X_test_normal])\n",
    "\n",
    "    y_train = np.hstack([y_train_pos, y_train_neg, y_train_normal])\n",
    "    y_valid = np.hstack([y_valid_pos, y_valid_neg, y_valid_normal])\n",
    "    y_test = np.hstack([y_test_pos, y_test_neg, y_test_normal])\n",
    "    \n",
    "    return X_train, X_valid, X_test, y_train, y_valid, y_test\n",
    "    \n",
    "    \n",
    "positive_flist = glob.glob(\"data/LVI_dataset/patch_image_size-300_overlap-0/LVI/*.png\")\n",
    "negative_flist = glob.glob(\"data/LVI_dataset/patch_image_size-300_overlap-0/Negative/*.png\")\n",
    "normal_flist = glob.glob(\"data/LVI_dataset/patch_image_size-300_overlap-0/Normal/*.png\")\n",
    "\n",
    "positive_df = generate_patch_df(positive_flist, 1)\n",
    "negative_df = generate_patch_df(negative_flist, 0)\n",
    "normal_df = generate_patch_df(normal_flist, 2)\n",
    "\n",
    "X_train, X_valid, X_test, y_train, y_valid, y_test = define_dataset(positive_df, negative_df, normal_df, sampling_rate=0.2)\n",
    "print(f\"X train: {X_train.shape}\\nX valid: {X_valid.shape}\\nX test: {X_test.shape}\")\n",
    "print(f\"y train: {y_train.shape}\\ny valid: {y_valid.shape}\\ny test: {y_test.shape}\")\n"
   ]
  },
  {
   "cell_type": "code",
   "execution_count": 3,
   "id": "6a64ff78",
   "metadata": {},
   "outputs": [],
   "source": [
    "train_transforms = A.Compose([ \n",
    "\n",
    "    A.RandomCrop(width=IM_WIDTH, height=IM_HEIGHT, p=1.0),\n",
    "    \n",
    "    A.OneOf([\n",
    "        A.Transpose(),\n",
    "        A.HorizontalFlip(),\n",
    "        A.VerticalFlip()\n",
    "    ], p=0.5),\n",
    "\n",
    "    A.OneOf([\n",
    "       A.ElasticTransform(),\n",
    "       A.Rotate(25)\n",
    "    ], p=0.8),\n",
    "\n",
    "    A.OneOf([\n",
    "       A.Blur(),\n",
    "       A.GaussianBlur(),\n",
    "       A.GaussNoise(),\n",
    "       A.MedianBlur()\n",
    "    ], p=0.5),\n",
    "\n",
    "    A.OneOf([\n",
    "       A.ChannelShuffle(),\n",
    "       A.ColorJitter(),\n",
    "       A.HueSaturationValue(),\n",
    "       A.RandomBrightnessContrast()\n",
    "    ], p=0.5),\n",
    "    \n",
    "    A.Normalize(p=1.0),\n",
    "    ToTensorV2()\n",
    "])\n",
    "\n",
    "\n",
    "valid_transforms = A.Compose([ \n",
    "    A.Resize(width=IM_WIDTH, height=IM_HEIGHT, p=1.0),\n",
    "    A.Normalize(p=1.0),\n",
    "    ToTensorV2()\n",
    "])\n",
    "\n",
    "\n",
    "class LVIDataset(Dataset):\n",
    "    def __init__(self, X, y, transforms):\n",
    "        self.X = X\n",
    "        self.y = y\n",
    "        self.transforms = transforms\n",
    "        \n",
    "    def __len__(self):\n",
    "        return self.X.shape[0]\n",
    "    \n",
    "    def __getitem__(self, idx):\n",
    "        image  = cv2.imread(self.X[idx])\n",
    "        target = self.y[idx]\n",
    "\n",
    "        augmented = self.transforms(image=image)\n",
    "        image = augmented['image']\n",
    "        \n",
    "        return image, target\n",
    "\n",
    "    \n",
    "train_dataset = LVIDataset(X_train, y_train, transforms=train_transforms)\n",
    "train_dataloader = DataLoader(train_dataset, batch_size=BATCH_SIZE, num_workers=12, pin_memory=True, shuffle=True)\n",
    "\n",
    "valid_dataset = LVIDataset(X_valid, y_valid, transforms=valid_transforms)\n",
    "valid_dataloader = DataLoader(valid_dataset, batch_size=BATCH_SIZE, num_workers=12, pin_memory=False, shuffle=True)\n",
    "\n",
    "test_dataset = LVIDataset(X_test, y_test, transforms=valid_transforms)\n",
    "test_dataloader = DataLoader(test_dataset, batch_size=BATCH_SIZE, num_workers=12, pin_memory=False, shuffle=False)"
   ]
  },
  {
   "cell_type": "code",
   "execution_count": 8,
   "id": "61ebe353",
   "metadata": {},
   "outputs": [],
   "source": [
    "class ImageClassifier(pl.LightningModule):\n",
    "    def __init__(self, model_name, learning_rate, num_classes=3):\n",
    "        super(ImageClassifier, self).__init__()\n",
    "        self.model = timm.create_model(model_name, num_classes=num_classes, pretrained=True)\n",
    "        self.learning_rate = learning_rate\n",
    "        \n",
    "        self.train_accuracy = torchmetrics.Accuracy()\n",
    "        self.valid_accuracy = torchmetrics.Accuracy()\n",
    "        self.test_accuracy = torchmetrics.Accuracy()\n",
    "        \n",
    "        self.train_f1 = torchmetrics.F1(num_classes)\n",
    "        self.valid_f1 = torchmetrics.F1(num_classes)\n",
    "        self.test_f1 = torchmetrics.F1(num_classes)\n",
    "    \n",
    "    \n",
    "    def training_step(self, batch, batch_idx):\n",
    "        x, y = batch\n",
    "        y_hat = self.model(x)\n",
    "        loss = F.cross_entropy(y_hat, y)\n",
    "        self.log(\"train_loss\", loss, on_step=False, on_epoch=True, prog_bar=True, logger=True)\n",
    "        self.log(\"train_accuracy\", self.train_accuracy(y_hat, y), on_step=False, on_epoch=True, prog_bar=True, logger=True)\n",
    "        self.log(\"train_f1\", self.train_f1(y_hat, y), on_step=False, on_epoch=True, prog_bar=True, logger=True)\n",
    "\n",
    "        return loss\n",
    "    \n",
    "        \n",
    "    def validation_step(self, batch, batch_idx):\n",
    "        x, y = batch\n",
    "        y_hat = self.model(x)\n",
    "        loss = F.cross_entropy(y_hat, y)\n",
    "        self.log(\"valid_loss\", loss, on_step=True, on_epoch=True)\n",
    "        self.log(\"valid_accuracy\", self.valid_accuracy(y_hat, y), on_step=True, on_epoch=True)\n",
    "        self.log(\"valid_f1\", self.valid_f1(y_hat, y), on_step=True, on_epoch=True)\n",
    "\n",
    "    \n",
    "    def test_step(self, batch, batch_idx):\n",
    "        x, y = batch\n",
    "        y_hat = self.model(x)\n",
    "        loss = F.cross_entropy(y_hat, y)\n",
    "        self.log(\"test_loss\", loss, on_step=True, on_epoch=True)\n",
    "        self.log(\"test_accuracy\", self.test_accuracy(y_hat, y), on_step=True, on_epoch=True)\n",
    "        self.log(\"test_f1\", self.test_f1(y_hat, y), on_step=True, on_epoch=True)\n",
    "        \n",
    "        \n",
    "    def configure_optimizers(self):\n",
    "        optimizer = torch.optim.AdamW(self.parameters(), lr=self.learning_rate)\n",
    "        scheduler = torch.optim.lr_scheduler.ReduceLROnPlateau(optimizer, mode=\"min\", factor=0.2, patience=20, min_lr=5e-5)\n",
    "        \n",
    "        return {\"optimizer\": optimizer, \"lr_scheduler\": scheduler, \"monitor\": \"valid_loss\"}\n",
    "\n",
    "def define_callbacks(patience):\n",
    "    return EarlyStopping('valid_loss', patience=patience)"
   ]
  },
  {
   "cell_type": "code",
   "execution_count": null,
   "id": "92530c6e",
   "metadata": {
    "scrolled": true
   },
   "outputs": [
    {
     "name": "stderr",
     "output_type": "stream",
     "text": [
      "GPU available: True, used: True\n",
      "TPU available: False, using: 0 TPU cores\n",
      "IPU available: False, using: 0 IPUs\n",
      "LOCAL_RANK: 0 - CUDA_VISIBLE_DEVICES: [0]\n",
      "\n",
      "  | Name           | Type     | Params\n",
      "--------------------------------------------\n",
      "0 | model          | DenseNet | 7.0 M \n",
      "1 | train_accuracy | Accuracy | 0     \n",
      "2 | valid_accuracy | Accuracy | 0     \n",
      "3 | test_accuracy  | Accuracy | 0     \n",
      "4 | train_f1       | F1       | 0     \n",
      "5 | valid_f1       | F1       | 0     \n",
      "6 | test_f1        | F1       | 0     \n",
      "--------------------------------------------\n",
      "7.0 M     Trainable params\n",
      "0         Non-trainable params\n",
      "7.0 M     Total params\n",
      "27.828    Total estimated model params size (MB)\n"
     ]
    },
    {
     "data": {
      "application/vnd.jupyter.widget-view+json": {
       "model_id": "",
       "version_major": 2,
       "version_minor": 0
      },
      "text/plain": [
       "Validation sanity check: 0it [00:00, ?it/s]"
      ]
     },
     "metadata": {},
     "output_type": "display_data"
    },
    {
     "data": {
      "application/vnd.jupyter.widget-view+json": {
       "model_id": "ccba2d5a19994cd59f7a31c70193556e",
       "version_major": 2,
       "version_minor": 0
      },
      "text/plain": [
       "Training: 0it [00:00, ?it/s]"
      ]
     },
     "metadata": {},
     "output_type": "display_data"
    },
    {
     "data": {
      "application/vnd.jupyter.widget-view+json": {
       "model_id": "",
       "version_major": 2,
       "version_minor": 0
      },
      "text/plain": [
       "Validating: 0it [00:00, ?it/s]"
      ]
     },
     "metadata": {},
     "output_type": "display_data"
    },
    {
     "data": {
      "application/vnd.jupyter.widget-view+json": {
       "model_id": "",
       "version_major": 2,
       "version_minor": 0
      },
      "text/plain": [
       "Validating: 0it [00:00, ?it/s]"
      ]
     },
     "metadata": {},
     "output_type": "display_data"
    },
    {
     "data": {
      "application/vnd.jupyter.widget-view+json": {
       "model_id": "",
       "version_major": 2,
       "version_minor": 0
      },
      "text/plain": [
       "Validating: 0it [00:00, ?it/s]"
      ]
     },
     "metadata": {},
     "output_type": "display_data"
    },
    {
     "data": {
      "application/vnd.jupyter.widget-view+json": {
       "model_id": "",
       "version_major": 2,
       "version_minor": 0
      },
      "text/plain": [
       "Validating: 0it [00:00, ?it/s]"
      ]
     },
     "metadata": {},
     "output_type": "display_data"
    },
    {
     "data": {
      "application/vnd.jupyter.widget-view+json": {
       "model_id": "",
       "version_major": 2,
       "version_minor": 0
      },
      "text/plain": [
       "Validating: 0it [00:00, ?it/s]"
      ]
     },
     "metadata": {},
     "output_type": "display_data"
    },
    {
     "data": {
      "application/vnd.jupyter.widget-view+json": {
       "model_id": "",
       "version_major": 2,
       "version_minor": 0
      },
      "text/plain": [
       "Validating: 0it [00:00, ?it/s]"
      ]
     },
     "metadata": {},
     "output_type": "display_data"
    },
    {
     "data": {
      "application/vnd.jupyter.widget-view+json": {
       "model_id": "",
       "version_major": 2,
       "version_minor": 0
      },
      "text/plain": [
       "Validating: 0it [00:00, ?it/s]"
      ]
     },
     "metadata": {},
     "output_type": "display_data"
    },
    {
     "data": {
      "application/vnd.jupyter.widget-view+json": {
       "model_id": "",
       "version_major": 2,
       "version_minor": 0
      },
      "text/plain": [
       "Validating: 0it [00:00, ?it/s]"
      ]
     },
     "metadata": {},
     "output_type": "display_data"
    },
    {
     "data": {
      "application/vnd.jupyter.widget-view+json": {
       "model_id": "",
       "version_major": 2,
       "version_minor": 0
      },
      "text/plain": [
       "Validating: 0it [00:00, ?it/s]"
      ]
     },
     "metadata": {},
     "output_type": "display_data"
    },
    {
     "data": {
      "application/vnd.jupyter.widget-view+json": {
       "model_id": "a63e803c5aec4c62817fa9a19f1ac425",
       "version_major": 2,
       "version_minor": 0
      },
      "text/plain": [
       "Validating: 0it [00:00, ?it/s]"
      ]
     },
     "metadata": {},
     "output_type": "display_data"
    }
   ],
   "source": [
    "model = ImageClassifier(model_name, LEARNING_RATE)\n",
    "callbacks = define_callbacks(PAITENCE)\n",
    "# trainer = pl.Trainer(accelerator=\"cpu\", num_processes=1, max_epochs=1, enable_progress_bar=True)\n",
    "trainer = pl.Trainer(gpus=1, max_epochs=N_EPOCHS, enable_progress_bar=True, callbacks=callbacks)\n",
    "trainer.fit(model, train_dataloader, valid_dataloader)"
   ]
  },
  {
   "cell_type": "code",
   "execution_count": 11,
   "id": "43f1234a",
   "metadata": {},
   "outputs": [],
   "source": [
    "torch.save(model.state_dict(), f\"./weights/{model_name}_patch-{IM_WIDTH}.pt\")"
   ]
  },
  {
   "cell_type": "code",
   "execution_count": 12,
   "id": "0aae8624",
   "metadata": {
    "scrolled": false
   },
   "outputs": [
    {
     "name": "stderr",
     "output_type": "stream",
     "text": [
      "Restoring states from the checkpoint path at /home/ubuntu/Workspace/KOHI2021_gastric_LVI_AI/lightning_logs/version_22/checkpoints/epoch=52-step=96172.ckpt\n",
      "LOCAL_RANK: 0 - CUDA_VISIBLE_DEVICES: [0]\n",
      "Loaded model weights from checkpoint at /home/ubuntu/Workspace/KOHI2021_gastric_LVI_AI/lightning_logs/version_22/checkpoints/epoch=52-step=96172.ckpt\n"
     ]
    },
    {
     "data": {
      "application/vnd.jupyter.widget-view+json": {
       "model_id": "f5a2c41cc89b4e08a94512edf1dc86ac",
       "version_major": 2,
       "version_minor": 0
      },
      "text/plain": [
       "Testing: 0it [00:00, ?it/s]"
      ]
     },
     "metadata": {},
     "output_type": "display_data"
    },
    {
     "name": "stdout",
     "output_type": "stream",
     "text": [
      "--------------------------------------------------------------------------------\n",
      "DATALOADER:0 TEST RESULTS\n",
      "{'test_accuracy': 0.7465983033180237,\n",
      " 'test_accuracy_epoch': 0.7465983033180237,\n",
      " 'test_f1': 0.7465983033180237,\n",
      " 'test_f1_epoch': 0.7465983033180237,\n",
      " 'test_loss': 0.3839370906352997,\n",
      " 'test_loss_epoch': 0.3839370906352997}\n",
      "--------------------------------------------------------------------------------\n"
     ]
    },
    {
     "data": {
      "text/plain": [
       "[{'test_loss': 0.3839370906352997,\n",
       "  'test_loss_epoch': 0.3839370906352997,\n",
       "  'test_accuracy': 0.7465983033180237,\n",
       "  'test_accuracy_epoch': 0.7465983033180237,\n",
       "  'test_f1': 0.7465983033180237,\n",
       "  'test_f1_epoch': 0.7465983033180237}]"
      ]
     },
     "execution_count": 12,
     "metadata": {},
     "output_type": "execute_result"
    }
   ],
   "source": [
    "trainer.test(test_dataloaders=test_dataloader)"
   ]
  },
  {
   "cell_type": "code",
   "execution_count": null,
   "id": "faa43b77",
   "metadata": {},
   "outputs": [],
   "source": []
  }
 ],
 "metadata": {
  "kernelspec": {
   "display_name": "Python 3 (ipykernel)",
   "language": "python",
   "name": "python3"
  },
  "language_info": {
   "codemirror_mode": {
    "name": "ipython",
    "version": 3
   },
   "file_extension": ".py",
   "mimetype": "text/x-python",
   "name": "python",
   "nbconvert_exporter": "python",
   "pygments_lexer": "ipython3",
   "version": "3.8.11"
  }
 },
 "nbformat": 4,
 "nbformat_minor": 5
}
