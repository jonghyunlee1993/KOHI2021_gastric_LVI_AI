{
 "cells": [
  {
   "cell_type": "code",
   "execution_count": 39,
   "id": "bccb8d39",
   "metadata": {},
   "outputs": [
    {
     "name": "stdout",
     "output_type": "stream",
     "text": [
      "X train: (122737,)\n",
      "X valid: (30686,)\n",
      "X test: (38358,)\n",
      "y train: (122737,)\n",
      "y valid: (30686,)\n",
      "y test: (38358,)\n"
     ]
    }
   ],
   "source": [
    "import os\n",
    "import cv2\n",
    "import glob\n",
    "import h5py\n",
    "import numpy as np\n",
    "import pandas as pd\n",
    "from tqdm import tqdm\n",
    "\n",
    "from sklearn.model_selection import train_test_split\n",
    "\n",
    "import warnings\n",
    "warnings.filterwarnings(action='ignore')\n",
    "\n",
    "\n",
    "def generate_patch_df(flist, label):\n",
    "    df = pd.DataFrame({\"fpath\": flist})\n",
    "    df['slide_id'] = df['fpath'].map(lambda x: x.split(\"/\")[-1].split(\".\")[0].split(\"_\")[0])\n",
    "    df['patient_id'] = df['slide_id'].map(lambda x: x.split(\"-\")[0])\n",
    "    df['target'] = label\n",
    "\n",
    "    df = df.loc[:, [\"patient_id\", \"slide_id\", \"fpath\", \"target\"]]\n",
    "    \n",
    "    return df\n",
    "\n",
    "\n",
    "def define_dataset(positive_df, negative_df, normal_df, sampling_rate=0.2):\n",
    "    X_train_pos, X_test_pos, y_train_pos, y_test_pos = train_test_split(positive_df['fpath'], positive_df['target'], test_size=sampling_rate, random_state=1234)\n",
    "    X_train_pos, X_valid_pos, y_train_pos, y_valid_pos = train_test_split(X_train_pos, y_train_pos, test_size=sampling_rate, random_state=1234)\n",
    "\n",
    "    X_train_neg, X_test_neg, y_train_neg, y_test_neg = train_test_split(negative_df['fpath'], negative_df['target'], test_size=sampling_rate, random_state=1234)\n",
    "    X_train_neg, X_valid_neg, y_train_neg, y_valid_neg = train_test_split(X_train_neg, y_train_neg, test_size=sampling_rate, random_state=1234)\n",
    "    \n",
    "    X_train_normal, X_test_normal, y_train_normal, y_test_normal = train_test_split(normal_df['fpath'], normal_df['target'], test_size=sampling_rate, random_state=1234)\n",
    "    X_train_normal, X_valid_normal, y_train_normal, y_valid_normal = train_test_split(X_train_normal, y_train_normal, test_size=sampling_rate, random_state=1234)\n",
    "    \n",
    "    X_train = np.hstack([X_train_pos, X_train_neg, X_train_normal])\n",
    "    X_valid = np.hstack([X_valid_pos, X_valid_neg, X_valid_normal])\n",
    "    X_test = np.hstack([X_test_pos, X_test_neg, X_test_normal])\n",
    "\n",
    "    y_train = np.hstack([y_train_pos, y_train_neg, y_train_normal])\n",
    "    y_valid = np.hstack([y_valid_pos, y_valid_neg, y_valid_normal])\n",
    "    y_test = np.hstack([y_test_pos, y_test_neg, y_test_normal])\n",
    "    \n",
    "    return X_train, X_valid, X_test, y_train, y_valid, y_test\n",
    "    \n",
    "    \n",
    "positive_flist = glob.glob(\"../data/LVI_dataset/patch_image_size-300_overlap-0/LVI/*.png\")\n",
    "negative_flist = glob.glob(\"../data/LVI_dataset/patch_image_size-300_overlap-0/Negative/*.png\")\n",
    "normal_flist = glob.glob(\"../data/LVI_dataset/patch_image_size-300_overlap-0/Normal/*.png\")\n",
    "\n",
    "positive_df = generate_patch_df(positive_flist, 1)\n",
    "negative_df = generate_patch_df(negative_flist, 0)\n",
    "normal_df = generate_patch_df(normal_flist, 2)\n",
    "\n",
    "X_train, X_valid, X_test, y_train, y_valid, y_test = define_dataset(positive_df, negative_df, normal_df, sampling_rate=0.2)\n",
    "print(f\"X train: {X_train.shape}\\nX valid: {X_valid.shape}\\nX test: {X_test.shape}\")\n",
    "print(f\"y train: {y_train.shape}\\ny valid: {y_valid.shape}\\ny test: {y_test.shape}\")\n"
   ]
  },
  {
   "cell_type": "code",
   "execution_count": 45,
   "id": "9d504635",
   "metadata": {},
   "outputs": [
    {
     "data": {
      "text/plain": [
       "38358"
      ]
     },
     "execution_count": 45,
     "metadata": {},
     "output_type": "execute_result"
    }
   ],
   "source": [
    "X_test.shape[0]"
   ]
  },
  {
   "cell_type": "code",
   "execution_count": 47,
   "id": "cdb6975b",
   "metadata": {},
   "outputs": [
    {
     "data": {
      "text/plain": [
       "(38358, 300, 300, 3)"
      ]
     },
     "execution_count": 47,
     "metadata": {},
     "output_type": "execute_result"
    }
   ],
   "source": [
    "np.empty((X_test.shape[0], 300, 300, 3)).shape"
   ]
  },
  {
   "cell_type": "code",
   "execution_count": null,
   "id": "f61a4f4f",
   "metadata": {},
   "outputs": [
    {
     "name": "stderr",
     "output_type": "stream",
     "text": [
      " 32%|███████████▌                        | 12381/38358 [01:11<02:18, 187.30it/s]"
     ]
    }
   ],
   "source": [
    "import pickle\n",
    "\n",
    "image_ds = np.empty((X_test.shape[0], 300, 300, 3))\n",
    "\n",
    "for i, path in enumerate(tqdm(X_test)):\n",
    "        image = cv2.imread(path, cv2.IMREAD_COLOR)\n",
    "        image_ds[i, :, :, :] = image"
   ]
  },
  {
   "cell_type": "code",
   "execution_count": 33,
   "id": "4669522e",
   "metadata": {},
   "outputs": [],
   "source": [
    "# def make_h5_dataset(fname, X, y):\n",
    "#     with h5py.File(fname, 'w', libver='latest') as f:\n",
    "#         image_ds = f.create_dataset('images', shape=(len(X), 300, 300, 3), dtype=int,\n",
    "#                                     compression='gzip', compression_opts=2, chunks=True)\n",
    "#         target_ds = f.create_dataset('target', shape=(len(X)), dtype=int,\n",
    "#                                     compression='gzip', compression_opts=2, chunks=True)\n",
    "    \n",
    "#         for i, path in enumerate(tqdm(X)):\n",
    "#             image = cv2.imread(path, cv2.IMREAD_COLOR)\n",
    "#             image_ds[i, :, :, :] = image\n",
    "\n",
    "#             target = y[i]\n",
    "#             target_ds[i] = target"
   ]
  },
  {
   "cell_type": "code",
   "execution_count": 34,
   "id": "818382f7",
   "metadata": {
    "scrolled": false
   },
   "outputs": [
    {
     "name": "stderr",
     "output_type": "stream",
     "text": [
      "  0%|                                      | 6/38358 [00:31<56:33:41,  5.31s/it]\n"
     ]
    },
    {
     "ename": "KeyboardInterrupt",
     "evalue": "",
     "output_type": "error",
     "traceback": [
      "\u001b[0;31m---------------------------------------------------------------------------\u001b[0m",
      "\u001b[0;31mKeyboardInterrupt\u001b[0m                         Traceback (most recent call last)",
      "\u001b[0;32m/tmp/ipykernel_14244/2741575034.py\u001b[0m in \u001b[0;36m<module>\u001b[0;34m\u001b[0m\n\u001b[1;32m      1\u001b[0m \u001b[0;31m# make_h5_dataset(\"../data/LVI_dataset/patch_300_train_dataset.h5\", X_train, y_train)\u001b[0m\u001b[0;34m\u001b[0m\u001b[0;34m\u001b[0m\u001b[0;34m\u001b[0m\u001b[0m\n\u001b[1;32m      2\u001b[0m \u001b[0;31m# make_h5_dataset(\"../data/LVI_dataset/patch_300_valid_dataset.h5\", X_valid, y_valid)\u001b[0m\u001b[0;34m\u001b[0m\u001b[0;34m\u001b[0m\u001b[0;34m\u001b[0m\u001b[0m\n\u001b[0;32m----> 3\u001b[0;31m \u001b[0mmake_h5_dataset\u001b[0m\u001b[0;34m(\u001b[0m\u001b[0;34m\"../data/LVI_dataset/patch_300_test_dataset.h5\"\u001b[0m\u001b[0;34m,\u001b[0m \u001b[0mX_test\u001b[0m\u001b[0;34m,\u001b[0m \u001b[0my_test\u001b[0m\u001b[0;34m)\u001b[0m\u001b[0;34m\u001b[0m\u001b[0;34m\u001b[0m\u001b[0m\n\u001b[0m",
      "\u001b[0;32m/tmp/ipykernel_14244/1065530049.py\u001b[0m in \u001b[0;36mmake_h5_dataset\u001b[0;34m(fname, X, y)\u001b[0m\n\u001b[1;32m      8\u001b[0m         \u001b[0;32mfor\u001b[0m \u001b[0mi\u001b[0m\u001b[0;34m,\u001b[0m \u001b[0mpath\u001b[0m \u001b[0;32min\u001b[0m \u001b[0menumerate\u001b[0m\u001b[0;34m(\u001b[0m\u001b[0mtqdm\u001b[0m\u001b[0;34m(\u001b[0m\u001b[0mX\u001b[0m\u001b[0;34m)\u001b[0m\u001b[0;34m)\u001b[0m\u001b[0;34m:\u001b[0m\u001b[0;34m\u001b[0m\u001b[0;34m\u001b[0m\u001b[0m\n\u001b[1;32m      9\u001b[0m             \u001b[0mimage\u001b[0m \u001b[0;34m=\u001b[0m \u001b[0mcv2\u001b[0m\u001b[0;34m.\u001b[0m\u001b[0mimread\u001b[0m\u001b[0;34m(\u001b[0m\u001b[0mpath\u001b[0m\u001b[0;34m,\u001b[0m \u001b[0mcv2\u001b[0m\u001b[0;34m.\u001b[0m\u001b[0mIMREAD_COLOR\u001b[0m\u001b[0;34m)\u001b[0m\u001b[0;34m\u001b[0m\u001b[0;34m\u001b[0m\u001b[0m\n\u001b[0;32m---> 10\u001b[0;31m             \u001b[0mimage_ds\u001b[0m\u001b[0;34m[\u001b[0m\u001b[0mi\u001b[0m\u001b[0;34m,\u001b[0m \u001b[0;34m:\u001b[0m\u001b[0;34m,\u001b[0m \u001b[0;34m:\u001b[0m\u001b[0;34m,\u001b[0m \u001b[0;34m:\u001b[0m\u001b[0;34m]\u001b[0m \u001b[0;34m=\u001b[0m \u001b[0mimage\u001b[0m\u001b[0;34m\u001b[0m\u001b[0;34m\u001b[0m\u001b[0m\n\u001b[0m\u001b[1;32m     11\u001b[0m \u001b[0;34m\u001b[0m\u001b[0m\n\u001b[1;32m     12\u001b[0m             \u001b[0mtarget\u001b[0m \u001b[0;34m=\u001b[0m \u001b[0my\u001b[0m\u001b[0;34m[\u001b[0m\u001b[0mi\u001b[0m\u001b[0;34m]\u001b[0m\u001b[0;34m\u001b[0m\u001b[0;34m\u001b[0m\u001b[0m\n",
      "\u001b[0;32mh5py/_objects.pyx\u001b[0m in \u001b[0;36mh5py._objects.with_phil.wrapper\u001b[0;34m()\u001b[0m\n",
      "\u001b[0;32mh5py/_objects.pyx\u001b[0m in \u001b[0;36mh5py._objects.with_phil.wrapper\u001b[0;34m()\u001b[0m\n",
      "\u001b[0;32m~/anaconda3/envs/kohi/lib/python3.8/site-packages/h5py/_hl/dataset.py\u001b[0m in \u001b[0;36m__setitem__\u001b[0;34m(self, args, val)\u001b[0m\n\u001b[1;32m    942\u001b[0m         \u001b[0mmspace\u001b[0m \u001b[0;34m=\u001b[0m \u001b[0mh5s\u001b[0m\u001b[0;34m.\u001b[0m\u001b[0mcreate_simple\u001b[0m\u001b[0;34m(\u001b[0m\u001b[0mselection\u001b[0m\u001b[0;34m.\u001b[0m\u001b[0mexpand_shape\u001b[0m\u001b[0;34m(\u001b[0m\u001b[0mmshape\u001b[0m\u001b[0;34m)\u001b[0m\u001b[0;34m)\u001b[0m\u001b[0;34m\u001b[0m\u001b[0;34m\u001b[0m\u001b[0m\n\u001b[1;32m    943\u001b[0m         \u001b[0;32mfor\u001b[0m \u001b[0mfspace\u001b[0m \u001b[0;32min\u001b[0m \u001b[0mselection\u001b[0m\u001b[0;34m.\u001b[0m\u001b[0mbroadcast\u001b[0m\u001b[0;34m(\u001b[0m\u001b[0mmshape\u001b[0m\u001b[0;34m)\u001b[0m\u001b[0;34m:\u001b[0m\u001b[0;34m\u001b[0m\u001b[0;34m\u001b[0m\u001b[0m\n\u001b[0;32m--> 944\u001b[0;31m             \u001b[0mself\u001b[0m\u001b[0;34m.\u001b[0m\u001b[0mid\u001b[0m\u001b[0;34m.\u001b[0m\u001b[0mwrite\u001b[0m\u001b[0;34m(\u001b[0m\u001b[0mmspace\u001b[0m\u001b[0;34m,\u001b[0m \u001b[0mfspace\u001b[0m\u001b[0;34m,\u001b[0m \u001b[0mval\u001b[0m\u001b[0;34m,\u001b[0m \u001b[0mmtype\u001b[0m\u001b[0;34m,\u001b[0m \u001b[0mdxpl\u001b[0m\u001b[0;34m=\u001b[0m\u001b[0mself\u001b[0m\u001b[0;34m.\u001b[0m\u001b[0m_dxpl\u001b[0m\u001b[0;34m)\u001b[0m\u001b[0;34m\u001b[0m\u001b[0;34m\u001b[0m\u001b[0m\n\u001b[0m\u001b[1;32m    945\u001b[0m \u001b[0;34m\u001b[0m\u001b[0m\n\u001b[1;32m    946\u001b[0m     \u001b[0;32mdef\u001b[0m \u001b[0mread_direct\u001b[0m\u001b[0;34m(\u001b[0m\u001b[0mself\u001b[0m\u001b[0;34m,\u001b[0m \u001b[0mdest\u001b[0m\u001b[0;34m,\u001b[0m \u001b[0msource_sel\u001b[0m\u001b[0;34m=\u001b[0m\u001b[0;32mNone\u001b[0m\u001b[0;34m,\u001b[0m \u001b[0mdest_sel\u001b[0m\u001b[0;34m=\u001b[0m\u001b[0;32mNone\u001b[0m\u001b[0;34m)\u001b[0m\u001b[0;34m:\u001b[0m\u001b[0;34m\u001b[0m\u001b[0;34m\u001b[0m\u001b[0m\n",
      "\u001b[0;31mKeyboardInterrupt\u001b[0m: "
     ]
    }
   ],
   "source": [
    "# # make_h5_dataset(\"../data/LVI_dataset/patch_300_train_dataset.h5\", X_train, y_train)\n",
    "# # make_h5_dataset(\"../data/LVI_dataset/patch_300_valid_dataset.h5\", X_valid, y_valid)\n",
    "# make_h5_dataset(\"../data/LVI_dataset/patch_300_test_dataset.h5\", X_test, y_test)"
   ]
  },
  {
   "cell_type": "code",
   "execution_count": null,
   "id": "e25fad86",
   "metadata": {},
   "outputs": [],
   "source": []
  }
 ],
 "metadata": {
  "kernelspec": {
   "display_name": "Python 3 (ipykernel)",
   "language": "python",
   "name": "python3"
  },
  "language_info": {
   "codemirror_mode": {
    "name": "ipython",
    "version": 3
   },
   "file_extension": ".py",
   "mimetype": "text/x-python",
   "name": "python",
   "nbconvert_exporter": "python",
   "pygments_lexer": "ipython3",
   "version": "3.8.11"
  }
 },
 "nbformat": 4,
 "nbformat_minor": 5
}
